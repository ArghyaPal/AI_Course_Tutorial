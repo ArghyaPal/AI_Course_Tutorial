{
  "nbformat": 4,
  "nbformat_minor": 0,
  "metadata": {
    "colab": {
      "name": "Lesson_3_deeper_look_into_SVC_function.ipynb",
      "version": "0.3.2",
      "provenance": [],
      "collapsed_sections": [],
      "include_colab_link": true
    },
    "kernelspec": {
      "name": "python3",
      "display_name": "Python 3"
    }
  },
  "cells": [
    {
      "cell_type": "markdown",
      "metadata": {
        "id": "view-in-github",
        "colab_type": "text"
      },
      "source": [
        "<a href=\"https://colab.research.google.com/github/ArghyaPal/AI_Course_Tutorial/blob/master/Lesson_3_deeper_look_into_SVC_function.ipynb\" target=\"_parent\"><img src=\"https://colab.research.google.com/assets/colab-badge.svg\" alt=\"Open In Colab\"/></a>"
      ]
    },
    {
      "cell_type": "markdown",
      "metadata": {
        "id": "_IY_-RuJBGGr",
        "colab_type": "text"
      },
      "source": [
        "# Let's have a closer look on SVC()\n",
        "\n",
        "\n",
        "Recall, our equation: <br>\n",
        "\n",
        "$\\frac{1}{2}\\|w\\|^2+C\\sum_i\\max(0,1-y_i(w^\\intercal x_i+b))$ <br>\n",
        "\n",
        "\n",
        "---\n",
        "\n",
        "\n",
        "\n",
        "`class sklearn.svm.SVC`():\n",
        "> * C : float, optional (default=1.0):\n",
        "    >>Penalty parameter C of the error term.\n",
        "> * kernel : string, optional (default=’rbf’):\n",
        "  >> It must be one of linear (`linear`), polynomial (`poly`), gaussian (`rbf`), sigmoid (`sigmoid`), user-defined (`precomputed`)\n",
        "> * decision_function_shape : ‘ovo’, ‘ovr’, default=’ovr’\n",
        "   >> * `ovo`: One-vs-one\n",
        "   >> * `ovr`: One-vs-rest\n",
        "> * gamma : float, optional (default=’auto’)\n",
        "> * max_iter : int, optional (default=-1):\n",
        "  >> Hard limit on iterations within solver, or -1 for no limit\n",
        "> * tol : float, optional (default=1e-3)\n",
        "   >>Tolerance for stopping criterion"
      ]
    },
    {
      "cell_type": "markdown",
      "metadata": {
        "id": "THIqGgP4Z19h",
        "colab_type": "text"
      },
      "source": [
        "## Other methods of the class SVC()\n",
        "\n",
        "> * **fit(X, y)**\tFit the SVM model according to the given labeled training training data\n",
        "> * **predict(X)**\tPerform classification on samples in Xs\n",
        "\n",
        "## Essential Attributes\n",
        "> * **support_vectors_**: get support vectors\n",
        "> * **n_support_**: get number of support vectors\n",
        "> * **support_**: get indices of support vectors\n"
      ]
    },
    {
      "cell_type": "markdown",
      "metadata": {
        "id": "Al_e_stHbqCe",
        "colab_type": "text"
      },
      "source": [
        "\n",
        "\n",
        "---\n",
        "\n",
        "#Exercise\n",
        "\n",
        "We will use wine dataset. The wine dataset is a classic and very easy multi-class classification dataset <br> \n",
        "> * Classes\t3\n",
        "> * Samples per class:\n",
        ">> * class1: 59 samples\n",
        ">> * class 2: 71\n",
        ">> * class 3: 48\n",
        "> * Samples total\t178\n",
        "> * Dimensionality\t13\n",
        "> * Features\treal, positive\n",
        "\n",
        "Read more in the user guide: https://scikit-learn.org/stable/datasets/index.html#wine-dataset"
      ]
    },
    {
      "cell_type": "code",
      "metadata": {
        "id": "bK83cwR2bpGk",
        "colab_type": "code",
        "outputId": "c348366c-a1fa-4a68-a7f0-d4fa8d010da9",
        "colab": {
          "base_uri": "https://localhost:8080/",
          "height": 224
        }
      },
      "source": [
        "import pandas as pd\n",
        "import numpy as np\n",
        "\n",
        "from sklearn.datasets import load_wine\n",
        "data = load_wine()\n",
        "\n",
        "#print(data.feature_names)\n",
        "#print(\"\\n\")\n",
        "#print(data.target_names)\n",
        "\n",
        "df = pd.DataFrame(data.data,columns=data.feature_names)\n",
        "df.head()\n",
        "# Add labels as a column\n",
        "df['target'] = data.target\n",
        "df.head()"
      ],
      "execution_count": 0,
      "outputs": [
        {
          "output_type": "execute_result",
          "data": {
            "text/html": [
              "<div>\n",
              "<style scoped>\n",
              "    .dataframe tbody tr th:only-of-type {\n",
              "        vertical-align: middle;\n",
              "    }\n",
              "\n",
              "    .dataframe tbody tr th {\n",
              "        vertical-align: top;\n",
              "    }\n",
              "\n",
              "    .dataframe thead th {\n",
              "        text-align: right;\n",
              "    }\n",
              "</style>\n",
              "<table border=\"1\" class=\"dataframe\">\n",
              "  <thead>\n",
              "    <tr style=\"text-align: right;\">\n",
              "      <th></th>\n",
              "      <th>alcohol</th>\n",
              "      <th>malic_acid</th>\n",
              "      <th>ash</th>\n",
              "      <th>alcalinity_of_ash</th>\n",
              "      <th>magnesium</th>\n",
              "      <th>total_phenols</th>\n",
              "      <th>flavanoids</th>\n",
              "      <th>nonflavanoid_phenols</th>\n",
              "      <th>proanthocyanins</th>\n",
              "      <th>color_intensity</th>\n",
              "      <th>hue</th>\n",
              "      <th>od280/od315_of_diluted_wines</th>\n",
              "      <th>proline</th>\n",
              "      <th>target</th>\n",
              "    </tr>\n",
              "  </thead>\n",
              "  <tbody>\n",
              "    <tr>\n",
              "      <th>0</th>\n",
              "      <td>14.23</td>\n",
              "      <td>1.71</td>\n",
              "      <td>2.43</td>\n",
              "      <td>15.6</td>\n",
              "      <td>127.0</td>\n",
              "      <td>2.80</td>\n",
              "      <td>3.06</td>\n",
              "      <td>0.28</td>\n",
              "      <td>2.29</td>\n",
              "      <td>5.64</td>\n",
              "      <td>1.04</td>\n",
              "      <td>3.92</td>\n",
              "      <td>1065.0</td>\n",
              "      <td>0</td>\n",
              "    </tr>\n",
              "    <tr>\n",
              "      <th>1</th>\n",
              "      <td>13.20</td>\n",
              "      <td>1.78</td>\n",
              "      <td>2.14</td>\n",
              "      <td>11.2</td>\n",
              "      <td>100.0</td>\n",
              "      <td>2.65</td>\n",
              "      <td>2.76</td>\n",
              "      <td>0.26</td>\n",
              "      <td>1.28</td>\n",
              "      <td>4.38</td>\n",
              "      <td>1.05</td>\n",
              "      <td>3.40</td>\n",
              "      <td>1050.0</td>\n",
              "      <td>0</td>\n",
              "    </tr>\n",
              "    <tr>\n",
              "      <th>2</th>\n",
              "      <td>13.16</td>\n",
              "      <td>2.36</td>\n",
              "      <td>2.67</td>\n",
              "      <td>18.6</td>\n",
              "      <td>101.0</td>\n",
              "      <td>2.80</td>\n",
              "      <td>3.24</td>\n",
              "      <td>0.30</td>\n",
              "      <td>2.81</td>\n",
              "      <td>5.68</td>\n",
              "      <td>1.03</td>\n",
              "      <td>3.17</td>\n",
              "      <td>1185.0</td>\n",
              "      <td>0</td>\n",
              "    </tr>\n",
              "    <tr>\n",
              "      <th>3</th>\n",
              "      <td>14.37</td>\n",
              "      <td>1.95</td>\n",
              "      <td>2.50</td>\n",
              "      <td>16.8</td>\n",
              "      <td>113.0</td>\n",
              "      <td>3.85</td>\n",
              "      <td>3.49</td>\n",
              "      <td>0.24</td>\n",
              "      <td>2.18</td>\n",
              "      <td>7.80</td>\n",
              "      <td>0.86</td>\n",
              "      <td>3.45</td>\n",
              "      <td>1480.0</td>\n",
              "      <td>0</td>\n",
              "    </tr>\n",
              "    <tr>\n",
              "      <th>4</th>\n",
              "      <td>13.24</td>\n",
              "      <td>2.59</td>\n",
              "      <td>2.87</td>\n",
              "      <td>21.0</td>\n",
              "      <td>118.0</td>\n",
              "      <td>2.80</td>\n",
              "      <td>2.69</td>\n",
              "      <td>0.39</td>\n",
              "      <td>1.82</td>\n",
              "      <td>4.32</td>\n",
              "      <td>1.04</td>\n",
              "      <td>2.93</td>\n",
              "      <td>735.0</td>\n",
              "      <td>0</td>\n",
              "    </tr>\n",
              "  </tbody>\n",
              "</table>\n",
              "</div>"
            ],
            "text/plain": [
              "   alcohol  malic_acid   ash  ...  od280/od315_of_diluted_wines  proline  target\n",
              "0    14.23        1.71  2.43  ...                          3.92   1065.0       0\n",
              "1    13.20        1.78  2.14  ...                          3.40   1050.0       0\n",
              "2    13.16        2.36  2.67  ...                          3.17   1185.0       0\n",
              "3    14.37        1.95  2.50  ...                          3.45   1480.0       0\n",
              "4    13.24        2.59  2.87  ...                          2.93    735.0       0\n",
              "\n",
              "[5 rows x 14 columns]"
            ]
          },
          "metadata": {
            "tags": []
          },
          "execution_count": 4
        }
      ]
    },
    {
      "cell_type": "code",
      "metadata": {
        "id": "fkmhb8SddFok",
        "colab_type": "code",
        "colab": {}
      },
      "source": [
        "from sklearn.model_selection import train_test_split\n",
        "\n",
        "X = df.drop(['target'], axis='columns')\n",
        "y = df.target\n",
        "X_train, X_test, y_train, y_test = train_test_split(X, y, test_size=0.2)"
      ],
      "execution_count": 0,
      "outputs": []
    },
    {
      "cell_type": "code",
      "metadata": {
        "id": "E_88lOrddNBF",
        "colab_type": "code",
        "colab": {}
      },
      "source": [
        "from sklearn.svm import SVC\n",
        "\n",
        "# please change the values\n",
        "model = SVC(C=  , decision_function_shape= , gamma='auto',\n",
        "    kernel= , max_iter= , probability= False, random_state=None,\n",
        "    shrinking=True, tol= 0.001, verbose=False)  "
      ],
      "execution_count": 0,
      "outputs": []
    },
    {
      "cell_type": "markdown",
      "metadata": {
        "id": "nUP3yqTUdPlV",
        "colab_type": "text"
      },
      "source": [
        "## Try the following\n",
        "\n",
        "> 1. Change `C`, `gamma`\n",
        "> 2. Try different  kernels by changing `kernel`: `linear`\n",
        "> 3. Try `decision_function_shape : ‘ovo’`, and `‘ovr’`"
      ]
    },
    {
      "cell_type": "markdown",
      "metadata": {
        "id": "WXcr4hnUf-3m",
        "colab_type": "text"
      },
      "source": [
        "## Train the SVC model"
      ]
    },
    {
      "cell_type": "code",
      "metadata": {
        "id": "SQS9-fXzf5Ag",
        "colab_type": "code",
        "colab": {}
      },
      "source": [
        "model.fit(X_train, y_train)"
      ],
      "execution_count": 0,
      "outputs": []
    },
    {
      "cell_type": "markdown",
      "metadata": {
        "id": "rA0fkbdcgCts",
        "colab_type": "text"
      },
      "source": [
        "# Evaluate the model"
      ]
    },
    {
      "cell_type": "code",
      "metadata": {
        "id": "Gdi7XECpgGRE",
        "colab_type": "code",
        "colab": {}
      },
      "source": [
        "#Predict the response for test dataset\n",
        "y_pred = model.predict(X_test)\n",
        "\n",
        "#Import scikit-learn metrics module for accuracy calculation\n",
        "from sklearn import metrics\n",
        "\n",
        "# Model Accuracy: how often is the classifier correct?\n",
        "print(\"Accuracy:\",metrics.accuracy_score(y_test, y_pred))"
      ],
      "execution_count": 0,
      "outputs": []
    },
    {
      "cell_type": "markdown",
      "metadata": {
        "id": "yzo0YZghgOVt",
        "colab_type": "text"
      },
      "source": [
        "# In the next tutorial we will study different kernels\n",
        "\n",
        "## Non-linear SVM\n",
        "\n",
        "### SVM kernels\n",
        "Description of kernels: (We will see all of them later in details) <br>\n",
        "> * Linear\n",
        "> * Polynomial\n",
        "> * RBF"
      ]
    }
  ]
}