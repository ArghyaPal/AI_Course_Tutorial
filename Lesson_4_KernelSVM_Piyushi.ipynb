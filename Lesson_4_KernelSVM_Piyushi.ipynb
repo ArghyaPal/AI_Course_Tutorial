{
  "nbformat": 4,
  "nbformat_minor": 0,
  "metadata": {
    "colab": {
      "name": "Lesson_3_KernelSVM_Piyushi.ipynb",
      "version": "0.3.2",
      "provenance": [],
      "collapsed_sections": [],
      "include_colab_link": true
    },
    "kernelspec": {
      "name": "python3",
      "display_name": "Python 3"
    }
  },
  "cells": [
    {
      "cell_type": "markdown",
      "metadata": {
        "id": "view-in-github",
        "colab_type": "text"
      },
      "source": [
        "<a href=\"https://colab.research.google.com/github/ArghyaPal/AI_Course_Tutorial/blob/master/Lesson_4_KernelSVM_Piyushi.ipynb\" target=\"_parent\"><img src=\"https://colab.research.google.com/assets/colab-badge.svg\" alt=\"Open In Colab\"/></a>"
      ]
    },
    {
      "cell_type": "markdown",
      "metadata": {
        "id": "MOT14iJqlBoR",
        "colab_type": "text"
      },
      "source": [
        "# **SVM using Inbuilt Kernels**\n",
        "\n",
        "Here we will be experimenting with different inbuilt Kernels. If time permits, we will also learn to create custom kernels."
      ]
    },
    {
      "cell_type": "code",
      "metadata": {
        "id": "a1SPF9DWD9R-",
        "colab_type": "code",
        "colab": {}
      },
      "source": [
        "#Suppressing all warnings\n",
        "import warnings\n",
        "warnings.filterwarnings(\"ignore\")"
      ],
      "execution_count": 0,
      "outputs": []
    },
    {
      "cell_type": "markdown",
      "metadata": {
        "id": "6Nix4tUk8t7l",
        "colab_type": "text"
      },
      "source": [
        "**Digits Dataset**\n",
        "\n",
        "This dataset is made up of 1797 8x8 images of hand-written digits. We have to first transform it into a feature vector with length 64."
      ]
    },
    {
      "cell_type": "code",
      "metadata": {
        "id": "RAEnR9mJ7x_j",
        "colab_type": "code",
        "outputId": "94d181cd-c391-4ef0-e316-485df1df04f8",
        "colab": {
          "base_uri": "https://localhost:8080/",
          "height": 34
        }
      },
      "source": [
        "from sklearn import datasets\n",
        "# Loading the Digits dataset\n",
        "digits = datasets.load_digits()\n",
        "\n",
        "# To apply an classifier on this data, we need to flatten the image, to\n",
        "# turn the data in a (samples, feature) matrix:\n",
        "n_samples = len(digits.images)#1797\n",
        "X = digits.images.reshape((n_samples, -1))\n",
        "y = digits.target\n",
        "#print(X.shape)#(1797,64)\n",
        "\n",
        "# Split the dataset in two equal parts\n",
        "X_train, X_test, y_train, y_test = train_test_split(\n",
        "    X, y, test_size=0.5, random_state=0)"
      ],
      "execution_count": 0,
      "outputs": [
        {
          "output_type": "stream",
          "text": [
            "(1797, 64)\n"
          ],
          "name": "stdout"
        }
      ]
    },
    {
      "cell_type": "markdown",
      "metadata": {
        "id": "IRGWbW-3xsOF",
        "colab_type": "text"
      },
      "source": [
        "### SVM with default Hyperparameter"
      ]
    },
    {
      "cell_type": "code",
      "metadata": {
        "id": "e7dWuds5pyxN",
        "colab_type": "code",
        "colab": {}
      },
      "source": [
        "from sklearn.svm import SVC\n",
        "from sklearn import metrics"
      ],
      "execution_count": 0,
      "outputs": []
    },
    {
      "cell_type": "code",
      "metadata": {
        "id": "z-LZqNHcxzp2",
        "colab_type": "code",
        "outputId": "78b67e60-13c0-4800-cfdc-b22423c53187",
        "colab": {
          "base_uri": "https://localhost:8080/",
          "height": 52
        }
      },
      "source": [
        "svc=SVC() #Default hyperparameters\n",
        "svc.fit(X_train,y_train)\n",
        "y_pred=svc.predict(X_test)\n",
        "print('Accuracy Score:')\n",
        "print(metrics.accuracy_score(y_test,y_pred))"
      ],
      "execution_count": 0,
      "outputs": [
        {
          "output_type": "stream",
          "text": [
            "Accuracy Score:\n",
            "0.2335928809788654\n"
          ],
          "name": "stdout"
        }
      ]
    },
    {
      "cell_type": "markdown",
      "metadata": {
        "id": "QudThyA3x2sB",
        "colab_type": "text"
      },
      "source": [
        "### SVM with Linear Kernel"
      ]
    },
    {
      "cell_type": "code",
      "metadata": {
        "id": "9tUdSkKAx7eX",
        "colab_type": "code",
        "outputId": "b00bdc1c-0466-4acb-cc5f-68429f54fd3d",
        "colab": {
          "base_uri": "https://localhost:8080/",
          "height": 52
        }
      },
      "source": [
        "svc=SVC(kernel='linear')\n",
        "svc.fit(X_train,y_train)\n",
        "y_pred=svc.predict(X_test)\n",
        "print('Accuracy Score:')\n",
        "print(metrics.accuracy_score(y_test,y_pred))"
      ],
      "execution_count": 0,
      "outputs": [
        {
          "output_type": "stream",
          "text": [
            "Accuracy Score:\n",
            "0.967741935483871\n"
          ],
          "name": "stdout"
        }
      ]
    },
    {
      "cell_type": "markdown",
      "metadata": {
        "id": "noShZ8HPx-g0",
        "colab_type": "text"
      },
      "source": [
        "**Note**: If linear works, go with it."
      ]
    },
    {
      "cell_type": "markdown",
      "metadata": {
        "id": "BIygkLMYyCfH",
        "colab_type": "text"
      },
      "source": [
        "###SVM with RBF Kernel"
      ]
    },
    {
      "cell_type": "code",
      "metadata": {
        "id": "yDGx9roIyJ1O",
        "colab_type": "code",
        "outputId": "ba0b8ff5-49af-41a4-a3a0-6d7936821936",
        "colab": {
          "base_uri": "https://localhost:8080/",
          "height": 52
        }
      },
      "source": [
        "svc=SVC(kernel='rbf', gamma='scale')\n",
        "svc.fit(X_train,y_train)\n",
        "y_pred=svc.predict(X_test)\n",
        "print('Accuracy Score:')\n",
        "print(metrics.accuracy_score(y_test,y_pred))"
      ],
      "execution_count": 0,
      "outputs": [
        {
          "output_type": "stream",
          "text": [
            "Accuracy Score:\n",
            "0.9877641824249166\n"
          ],
          "name": "stdout"
        }
      ]
    },
    {
      "cell_type": "markdown",
      "metadata": {
        "id": "G_5SjygeyNgt",
        "colab_type": "text"
      },
      "source": [
        "**Note**:\n",
        "\n",
        "If gamma is overestimated, the exponential will behave almost linearly and the higher-dimensional projection will start to lose its non-linear power. On the other hand, if it's underestimated, the function will lack regularization and the decision boundary will be highly sensitive to noise in training data.\n",
        "Default value of gamma is ‘auto’ which uses 1 / n_features, if gamma='scale' is passed then it uses 1 / (n_features * X.var()) as value of gamma."
      ]
    },
    {
      "cell_type": "markdown",
      "metadata": {
        "id": "xNRDZFgl2WXJ",
        "colab_type": "text"
      },
      "source": [
        "###SVM with Polynomial Kernel"
      ]
    },
    {
      "cell_type": "code",
      "metadata": {
        "id": "Q7gHs_KQyOwd",
        "colab_type": "code",
        "outputId": "002e369c-6746-4c92-f196-c7632b8d9c64",
        "colab": {
          "base_uri": "https://localhost:8080/",
          "height": 52
        }
      },
      "source": [
        "svc=SVC(kernel='poly')\n",
        "svc.fit(X_train,y_train)\n",
        "y_pred=svc.predict(X_test)\n",
        "print('Accuracy Score:')\n",
        "print(metrics.accuracy_score(y_test,y_pred))"
      ],
      "execution_count": 0,
      "outputs": [
        {
          "output_type": "stream",
          "text": [
            "Accuracy Score:\n",
            "0.9833147942157954\n"
          ],
          "name": "stdout"
        }
      ]
    },
    {
      "cell_type": "markdown",
      "metadata": {
        "id": "BsFPWPPtKlG6",
        "colab_type": "text"
      },
      "source": [
        "**Note**: \n",
        "\n",
        "Polynomial kernels are well suited for problems where all the training data is normalized.\n",
        "\n",
        "Although the RBF kernel is more popular in SVM classification than the polynomial kernel, the latter is quite popular in natural language processing."
      ]
    },
    {
      "cell_type": "markdown",
      "metadata": {
        "id": "xwsryhodlaLt",
        "colab_type": "text"
      },
      "source": [
        "# **Model Evaluation & Comparison**"
      ]
    },
    {
      "cell_type": "markdown",
      "metadata": {
        "id": "HvHQHh9XmEJ-",
        "colab_type": "text"
      },
      "source": [
        "Now we compare with the scores of some other classifiers fit on this data after setting the (intuitively) best hyperparameter."
      ]
    },
    {
      "cell_type": "code",
      "metadata": {
        "id": "wUOWshUomXlt",
        "colab_type": "code",
        "outputId": "c56f7fce-cada-4dd7-f361-4c1256836ba6",
        "colab": {
          "base_uri": "https://localhost:8080/",
          "height": 156
        }
      },
      "source": [
        "#SVM\n",
        "clf=SVC(kernel='poly')\n",
        "clf.fit(X_train,y_train)\n",
        "\n",
        "y_pred=clf.predict(X_test)\n",
        "print('SVM Accuracy Score:')\n",
        "print(metrics.accuracy_score(y_test,y_pred))\n",
        "\n",
        "#Naive Bayes\n",
        "from sklearn.naive_bayes import BernoulliNB\n",
        "\n",
        "clf=BernoulliNB()\n",
        "clf.fit(X_train,y_train)\n",
        "\n",
        "y_pred=clf.predict(X_test)\n",
        "print('NB Accuracy Score:')\n",
        "print(metrics.accuracy_score(y_test,y_pred))\n",
        "\n",
        "#Logistic Regression\n",
        "from sklearn.linear_model import LogisticRegression\n",
        "\n",
        "clf = LogisticRegression(random_state=0, solver='lbfgs',multi_class='multinomial').fit(X_train, y_train)\n",
        "\n",
        "y_pred=clf.predict(X_test)\n",
        "print('LR Accuracy Score:')\n",
        "print(metrics.accuracy_score(y_test,y_pred))\n",
        "\n",
        "#Decision Tree\n",
        "from sklearn import tree\n",
        "\n",
        "clf = tree.DecisionTreeClassifier().fit(X_train, y_train)\n",
        "\n",
        "y_pred=clf.predict(X_test)\n",
        "print('DT Accuracy Score:')\n",
        "print(metrics.accuracy_score(y_test,y_pred))"
      ],
      "execution_count": 0,
      "outputs": [
        {
          "output_type": "stream",
          "text": [
            "SVM Accuracy Score:\n",
            "0.9833147942157954\n",
            "NB Accuracy Score:\n",
            "0.8431590656284761\n",
            "LR Accuracy Score:\n",
            "0.9543937708565072\n",
            "DT Accuracy Score:\n",
            "0.8387096774193549\n"
          ],
          "name": "stdout"
        }
      ]
    },
    {
      "cell_type": "markdown",
      "metadata": {
        "id": "1ktTxwHeF2Hg",
        "colab_type": "text"
      },
      "source": [
        "###Hyper-parameter Tuning"
      ]
    },
    {
      "cell_type": "markdown",
      "metadata": {
        "id": "Pwp1Ydj_qnX3",
        "colab_type": "text"
      },
      "source": [
        "As you might have realized by now, your model's performance depends a lot on your Hyperparameter.\n",
        "\n",
        "To make our life a little easier, we have **GridSearchCV** and **RandomizedSearchCV**!\n"
      ]
    },
    {
      "cell_type": "markdown",
      "metadata": {
        "id": "fGlBsvo0wnN1",
        "colab_type": "text"
      },
      "source": [
        "####**GridSearch** \n",
        "Takes a dictionary of all of the different hyperparameters that you want to test, and then feeds all of the different combinations through the algorithm for you and then reports back to you which one had the highest accuracy."
      ]
    },
    {
      "cell_type": "code",
      "metadata": {
        "id": "xm_A88PGxSPg",
        "colab_type": "code",
        "outputId": "66ba9718-32bd-432f-f3ec-68b39f6d4ff8",
        "colab": {
          "base_uri": "https://localhost:8080/",
          "height": 1406
        }
      },
      "source": [
        "from sklearn.model_selection import GridSearchCV\n",
        "from sklearn.metrics import classification_report\n",
        "\n",
        "# Set the parameters by cross-validation\n",
        "tuned_parameters = {'kernel': ['rbf'], 'gamma': [1e-3, 1e-4],'C': [1, 10, 100, 1000],\n",
        "                     'kernel': ['linear'], 'C': [1, 10, 100, 1000]}\n",
        "\n",
        "scores = ['precision', 'recall']\n",
        "\n",
        "for score in scores:\n",
        "    print(\"# Tuning hyper-parameters for %s\" % score)\n",
        "    print()\n",
        "\n",
        "    clf = GridSearchCV(SVC(), tuned_parameters, cv=5,\n",
        "                       scoring='%s_macro' % score)\n",
        "    clf.fit(X_train, y_train)\n",
        "\n",
        "    print(\"Best parameters set found on development set:\")\n",
        "    print()\n",
        "    print(clf.best_params_)\n",
        "    print()\n",
        "    print(\"Grid scores on development set:\")\n",
        "    print()\n",
        "    means = clf.cv_results_['mean_test_score']\n",
        "    stds = clf.cv_results_['std_test_score']\n",
        "    for mean, std, params in zip(means, stds, clf.cv_results_['params']):\n",
        "        print(\"%0.3f (+/-%0.03f) for %r\"\n",
        "              % (mean, std * 2, params))\n",
        "    print()\n",
        "\n",
        "    print(\"Detailed classification report:\")\n",
        "    print()\n",
        "    print(\"The model is trained on the full development set.\")\n",
        "    print(\"The scores are computed on the full evaluation set.\")\n",
        "    print()\n",
        "    y_true, y_pred = y_test, clf.predict(X_test)\n",
        "    print(classification_report(y_true, y_pred))\n",
        "    print()"
      ],
      "execution_count": 0,
      "outputs": [
        {
          "output_type": "stream",
          "text": [
            "# Tuning hyper-parameters for precision\n",
            "\n",
            "Best parameters set found on development set:\n",
            "\n",
            "{'C': 1, 'gamma': 0.001, 'kernel': 'linear'}\n",
            "\n",
            "Grid scores on development set:\n",
            "\n",
            "0.975 (+/-0.014) for {'C': 1, 'gamma': 0.001, 'kernel': 'linear'}\n",
            "0.975 (+/-0.014) for {'C': 1, 'gamma': 0.0001, 'kernel': 'linear'}\n",
            "0.975 (+/-0.014) for {'C': 10, 'gamma': 0.001, 'kernel': 'linear'}\n",
            "0.975 (+/-0.014) for {'C': 10, 'gamma': 0.0001, 'kernel': 'linear'}\n",
            "0.975 (+/-0.014) for {'C': 100, 'gamma': 0.001, 'kernel': 'linear'}\n",
            "0.975 (+/-0.014) for {'C': 100, 'gamma': 0.0001, 'kernel': 'linear'}\n",
            "0.975 (+/-0.014) for {'C': 1000, 'gamma': 0.001, 'kernel': 'linear'}\n",
            "0.975 (+/-0.014) for {'C': 1000, 'gamma': 0.0001, 'kernel': 'linear'}\n",
            "\n",
            "Detailed classification report:\n",
            "\n",
            "The model is trained on the full development set.\n",
            "The scores are computed on the full evaluation set.\n",
            "\n",
            "              precision    recall  f1-score   support\n",
            "\n",
            "           0       1.00      1.00      1.00        89\n",
            "           1       0.96      0.96      0.96        90\n",
            "           2       0.98      0.99      0.98        92\n",
            "           3       0.96      0.99      0.97        93\n",
            "           4       0.99      1.00      0.99        76\n",
            "           5       0.94      0.96      0.95       108\n",
            "           6       0.98      0.99      0.98        89\n",
            "           7       0.99      0.99      0.99        78\n",
            "           8       0.95      0.88      0.92        92\n",
            "           9       0.96      0.93      0.95        92\n",
            "\n",
            "    accuracy                           0.97       899\n",
            "   macro avg       0.97      0.97      0.97       899\n",
            "weighted avg       0.97      0.97      0.97       899\n",
            "\n",
            "\n",
            "# Tuning hyper-parameters for recall\n",
            "\n",
            "Best parameters set found on development set:\n",
            "\n",
            "{'C': 1, 'gamma': 0.001, 'kernel': 'linear'}\n",
            "\n",
            "Grid scores on development set:\n",
            "\n",
            "0.972 (+/-0.012) for {'C': 1, 'gamma': 0.001, 'kernel': 'linear'}\n",
            "0.972 (+/-0.012) for {'C': 1, 'gamma': 0.0001, 'kernel': 'linear'}\n",
            "0.972 (+/-0.012) for {'C': 10, 'gamma': 0.001, 'kernel': 'linear'}\n",
            "0.972 (+/-0.012) for {'C': 10, 'gamma': 0.0001, 'kernel': 'linear'}\n",
            "0.972 (+/-0.012) for {'C': 100, 'gamma': 0.001, 'kernel': 'linear'}\n",
            "0.972 (+/-0.012) for {'C': 100, 'gamma': 0.0001, 'kernel': 'linear'}\n",
            "0.972 (+/-0.012) for {'C': 1000, 'gamma': 0.001, 'kernel': 'linear'}\n",
            "0.972 (+/-0.012) for {'C': 1000, 'gamma': 0.0001, 'kernel': 'linear'}\n",
            "\n",
            "Detailed classification report:\n",
            "\n",
            "The model is trained on the full development set.\n",
            "The scores are computed on the full evaluation set.\n",
            "\n",
            "              precision    recall  f1-score   support\n",
            "\n",
            "           0       1.00      1.00      1.00        89\n",
            "           1       0.96      0.96      0.96        90\n",
            "           2       0.98      0.99      0.98        92\n",
            "           3       0.96      0.99      0.97        93\n",
            "           4       0.99      1.00      0.99        76\n",
            "           5       0.94      0.96      0.95       108\n",
            "           6       0.98      0.99      0.98        89\n",
            "           7       0.99      0.99      0.99        78\n",
            "           8       0.95      0.88      0.92        92\n",
            "           9       0.96      0.93      0.95        92\n",
            "\n",
            "    accuracy                           0.97       899\n",
            "   macro avg       0.97      0.97      0.97       899\n",
            "weighted avg       0.97      0.97      0.97       899\n",
            "\n",
            "\n"
          ],
          "name": "stdout"
        }
      ]
    },
    {
      "cell_type": "markdown",
      "metadata": {
        "id": "72Hxmm37wphg",
        "colab_type": "text"
      },
      "source": [
        "####**RandomSearch** \n",
        "Performed by evaluating n uniformly random points in the hyperparameter space, and selects the one producing the best performance."
      ]
    },
    {
      "cell_type": "code",
      "metadata": {
        "id": "HbSuZuxkxS1G",
        "colab_type": "code",
        "outputId": "c975d426-e69f-4c7b-b9e5-b1a424e44926",
        "colab": {
          "base_uri": "https://localhost:8080/",
          "height": 1406
        }
      },
      "source": [
        "from sklearn.model_selection import RandomizedSearchCV\n",
        "from sklearn.metrics import classification_report\n",
        "\n",
        "# Set the parameters by cross-validation\n",
        "tuned_parameters = {'kernel': ['rbf'], 'gamma': [1e-3, 1e-4],'C': [1, 10, 100, 1000],\n",
        "                     'kernel': ['linear'], 'C': [1, 10, 100, 1000]}\n",
        "\n",
        "scores = ['precision', 'recall']\n",
        "\n",
        "for score in scores:\n",
        "    print(\"# Tuning hyper-parameters for %s\" % score)\n",
        "    print()\n",
        "\n",
        "    clf = RandomizedSearchCV(SVC(), tuned_parameters, cv=5,\n",
        "                       scoring='%s_macro' % score)\n",
        "    clf.fit(X_train, y_train)\n",
        "\n",
        "    print(\"Best parameters set found on development set:\")\n",
        "    print()\n",
        "    print(clf.best_params_)\n",
        "    print()\n",
        "    print(\"Grid scores on development set:\")\n",
        "    print()\n",
        "    means = clf.cv_results_['mean_test_score']\n",
        "    stds = clf.cv_results_['std_test_score']\n",
        "    for mean, std, params in zip(means, stds, clf.cv_results_['params']):\n",
        "        print(\"%0.3f (+/-%0.03f) for %r\"\n",
        "              % (mean, std * 2, params))\n",
        "    print()\n",
        "\n",
        "    print(\"Detailed classification report:\")\n",
        "    print()\n",
        "    print(\"The model is trained on the full development set.\")\n",
        "    print(\"The scores are computed on the full evaluation set.\")\n",
        "    print()\n",
        "    y_true, y_pred = y_test, clf.predict(X_test)\n",
        "    print(classification_report(y_true, y_pred))\n",
        "    print()"
      ],
      "execution_count": 0,
      "outputs": [
        {
          "output_type": "stream",
          "text": [
            "# Tuning hyper-parameters for precision\n",
            "\n",
            "Best parameters set found on development set:\n",
            "\n",
            "{'kernel': 'linear', 'gamma': 0.001, 'C': 1}\n",
            "\n",
            "Grid scores on development set:\n",
            "\n",
            "0.975 (+/-0.014) for {'kernel': 'linear', 'gamma': 0.001, 'C': 1}\n",
            "0.975 (+/-0.014) for {'kernel': 'linear', 'gamma': 0.0001, 'C': 1}\n",
            "0.975 (+/-0.014) for {'kernel': 'linear', 'gamma': 0.001, 'C': 10}\n",
            "0.975 (+/-0.014) for {'kernel': 'linear', 'gamma': 0.0001, 'C': 10}\n",
            "0.975 (+/-0.014) for {'kernel': 'linear', 'gamma': 0.001, 'C': 100}\n",
            "0.975 (+/-0.014) for {'kernel': 'linear', 'gamma': 0.0001, 'C': 100}\n",
            "0.975 (+/-0.014) for {'kernel': 'linear', 'gamma': 0.001, 'C': 1000}\n",
            "0.975 (+/-0.014) for {'kernel': 'linear', 'gamma': 0.0001, 'C': 1000}\n",
            "\n",
            "Detailed classification report:\n",
            "\n",
            "The model is trained on the full development set.\n",
            "The scores are computed on the full evaluation set.\n",
            "\n",
            "              precision    recall  f1-score   support\n",
            "\n",
            "           0       1.00      1.00      1.00        89\n",
            "           1       0.96      0.96      0.96        90\n",
            "           2       0.98      0.99      0.98        92\n",
            "           3       0.96      0.99      0.97        93\n",
            "           4       0.99      1.00      0.99        76\n",
            "           5       0.94      0.96      0.95       108\n",
            "           6       0.98      0.99      0.98        89\n",
            "           7       0.99      0.99      0.99        78\n",
            "           8       0.95      0.88      0.92        92\n",
            "           9       0.96      0.93      0.95        92\n",
            "\n",
            "    accuracy                           0.97       899\n",
            "   macro avg       0.97      0.97      0.97       899\n",
            "weighted avg       0.97      0.97      0.97       899\n",
            "\n",
            "\n",
            "# Tuning hyper-parameters for recall\n",
            "\n",
            "Best parameters set found on development set:\n",
            "\n",
            "{'kernel': 'linear', 'gamma': 0.001, 'C': 1}\n",
            "\n",
            "Grid scores on development set:\n",
            "\n",
            "0.972 (+/-0.012) for {'kernel': 'linear', 'gamma': 0.001, 'C': 1}\n",
            "0.972 (+/-0.012) for {'kernel': 'linear', 'gamma': 0.0001, 'C': 1}\n",
            "0.972 (+/-0.012) for {'kernel': 'linear', 'gamma': 0.001, 'C': 10}\n",
            "0.972 (+/-0.012) for {'kernel': 'linear', 'gamma': 0.0001, 'C': 10}\n",
            "0.972 (+/-0.012) for {'kernel': 'linear', 'gamma': 0.001, 'C': 100}\n",
            "0.972 (+/-0.012) for {'kernel': 'linear', 'gamma': 0.0001, 'C': 100}\n",
            "0.972 (+/-0.012) for {'kernel': 'linear', 'gamma': 0.001, 'C': 1000}\n",
            "0.972 (+/-0.012) for {'kernel': 'linear', 'gamma': 0.0001, 'C': 1000}\n",
            "\n",
            "Detailed classification report:\n",
            "\n",
            "The model is trained on the full development set.\n",
            "The scores are computed on the full evaluation set.\n",
            "\n",
            "              precision    recall  f1-score   support\n",
            "\n",
            "           0       1.00      1.00      1.00        89\n",
            "           1       0.96      0.96      0.96        90\n",
            "           2       0.98      0.99      0.98        92\n",
            "           3       0.96      0.99      0.97        93\n",
            "           4       0.99      1.00      0.99        76\n",
            "           5       0.94      0.96      0.95       108\n",
            "           6       0.98      0.99      0.98        89\n",
            "           7       0.99      0.99      0.99        78\n",
            "           8       0.95      0.88      0.92        92\n",
            "           9       0.96      0.93      0.95        92\n",
            "\n",
            "    accuracy                           0.97       899\n",
            "   macro avg       0.97      0.97      0.97       899\n",
            "weighted avg       0.97      0.97      0.97       899\n",
            "\n",
            "\n"
          ],
          "name": "stdout"
        }
      ]
    },
    {
      "cell_type": "markdown",
      "metadata": {
        "id": "nWRSSP8MylFf",
        "colab_type": "text"
      },
      "source": [
        "# **SVM using Custom Kernels**"
      ]
    },
    {
      "cell_type": "code",
      "metadata": {
        "id": "tKLULRJby3RX",
        "colab_type": "code",
        "outputId": "6d38090b-1f29-47a0-d949-4c5c0c3efd91",
        "colab": {
          "base_uri": "https://localhost:8080/",
          "height": 281
        }
      },
      "source": [
        "import numpy as np\n",
        "import matplotlib.pyplot as plt\n",
        "from sklearn import svm, datasets\n",
        "\n",
        "# import some data to play with\n",
        "iris = datasets.load_iris()\n",
        "X = iris.data[:, :2]  # we only take the first two features. We could\n",
        "                      # avoid this ugly slicing by using a two-dim dataset\n",
        "Y = iris.target\n",
        "\n",
        "\n",
        "def my_kernel(X, Y):\n",
        "    \"\"\"\n",
        "    We create a custom kernel:\n",
        "\n",
        "                 (2  0)\n",
        "    k(X, Y) = X  (    ) Y.T\n",
        "                 (0  1)\n",
        "    \"\"\"\n",
        "    M = np.array([[2, 0], [0, 1.0]])\n",
        "    return np.dot(np.dot(X, M), Y.T)\n",
        "\n",
        "\n",
        "h = .02  # step size in the mesh\n",
        "\n",
        "# we create an instance of SVM and fit out data.\n",
        "clf = svm.SVC(kernel=my_kernel)\n",
        "clf.fit(X, Y)\n",
        "\n",
        "# Plot the decision boundary. For that, we will assign a color to each\n",
        "# point in the mesh [x_min, x_max]x[y_min, y_max].\n",
        "x_min, x_max = X[:, 0].min() - 1, X[:, 0].max() + 1\n",
        "y_min, y_max = X[:, 1].min() - 1, X[:, 1].max() + 1\n",
        "xx, yy = np.meshgrid(np.arange(x_min, x_max, h), np.arange(y_min, y_max, h))\n",
        "Z = clf.predict(np.c_[xx.ravel(), yy.ravel()])\n",
        "\n",
        "# Put the result into a color plot\n",
        "Z = Z.reshape(xx.shape)\n",
        "plt.pcolormesh(xx, yy, Z, cmap=plt.cm.Paired)\n",
        "\n",
        "# Plot also the training points\n",
        "plt.scatter(X[:, 0], X[:, 1], c=Y, cmap=plt.cm.Paired, edgecolors='k')\n",
        "plt.title('3-Class classification using Support Vector Machine with custom'\n",
        "          ' kernel')\n",
        "plt.axis('tight')\n",
        "plt.show()"
      ],
      "execution_count": 0,
      "outputs": [
        {
          "output_type": "display_data",
          "data": {
            "image/png": "[encoded data removed]",
            "text/plain": [
              "<Figure size 432x288 with 1 Axes>"
            ]
          },
          "metadata": {
            "tags": []
          }
        }
      ]
    },
    {
      "cell_type": "markdown",
      "metadata": {
        "id": "YTD-JLy019fH",
        "colab_type": "text"
      },
      "source": [
        "Referenced from https://scikit-learn.org/stable/modules/generated/sklearn.svm.SVC.html"
      ]
    }
  ]
}