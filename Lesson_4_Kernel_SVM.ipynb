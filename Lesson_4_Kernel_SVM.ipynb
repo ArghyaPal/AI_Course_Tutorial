{
  "nbformat": 4,
  "nbformat_minor": 0,
  "metadata": {
    "colab": {
      "name": "Lesson_4_Kernel_SVM.ipynb",
      "version": "0.3.2",
      "provenance": [],
      "collapsed_sections": [],
      "include_colab_link": true
    },
    "kernelspec": {
      "name": "python3",
      "display_name": "Python 3"
    }
  },
  "cells": [
    {
      "cell_type": "markdown",
      "metadata": {
        "id": "view-in-github",
        "colab_type": "text"
      },
      "source": [
        "<a href=\"https://colab.research.google.com/github/ArghyaPal/AI_Course_Tutorial/blob/master/Lesson_4_Kernel_SVM.ipynb\" target=\"_parent\"><img src=\"https://colab.research.google.com/assets/colab-badge.svg\" alt=\"Open In Colab\"/></a>"
      ]
    },
    {
      "cell_type": "markdown",
      "metadata": {
        "id": "MOT14iJqlBoR",
        "colab_type": "text"
      },
      "source": [
        "# **SVM using Inbuilt Kernels**\n",
        "\n",
        "Here we will be experimenting with different inbuilt Kernels. If time permits, we will also learn to create custom kernels."
      ]
    },
    {
      "cell_type": "code",
      "metadata": {
        "id": "a1SPF9DWD9R-",
        "colab_type": "code",
        "colab": {}
      },
      "source": [
        "#Suppressing all warnings\n",
        "import warnings\n",
        "warnings.filterwarnings(\"ignore\")"
      ],
      "execution_count": 0,
      "outputs": []
    },
    {
      "cell_type": "code",
      "metadata": {
        "id": "KiAVIJE-hwFx",
        "colab_type": "code",
        "cellView": "form",
        "outputId": "8a992764-bfdd-49bb-a281-916c1781e99e",
        "colab": {
          "base_uri": "https://localhost:8080/",
          "height": 306
        }
      },
      "source": [
        "#@title Linear, Polynomial & RBF-\n",
        "Image(\"kernel2.jpg\", width=600)"
      ],
      "execution_count": 0,
      "outputs": [
        {
          "output_type": "execute_result",
          "data": {
            "image/jpeg": "[encoded data removed]",
            "text/plain": [
              "<IPython.core.display.Image object>"
            ]
          },
          "metadata": {
            "tags": [],
            "image/jpeg": {
              "width": 600
            }
          },
          "execution_count": 13
        }
      ]
    },
    {
      "cell_type": "markdown",
      "metadata": {
        "id": "6Nix4tUk8t7l",
        "colab_type": "text"
      },
      "source": [
        "\n",
        "[The Digit Dataset](https://scikit-learn.org/stable/auto_examples/datasets/plot_digits_last_image.html)\n",
        "\n",
        "This dataset is made up of 1797 8x8 images of hand-written digits so we have 10 classes. We have to first transform it into a feature vector with length 64.\n",
        "\n",
        "*You are encouraged to try EDA on this as an exercise to get a better hang of the data.*"
      ]
    },
    {
      "cell_type": "code",
      "metadata": {
        "id": "RAEnR9mJ7x_j",
        "colab_type": "code",
        "colab": {}
      },
      "source": [
        "from sklearn import datasets\n",
        "# Loading the Digits dataset\n",
        "digits = datasets.load_digits()"
      ],
      "execution_count": 0,
      "outputs": []
    },
    {
      "cell_type": "code",
      "metadata": {
        "id": "pdMgYQBAxeeJ",
        "colab_type": "code",
        "colab": {}
      },
      "source": [
        "digits"
      ],
      "execution_count": 0,
      "outputs": []
    },
    {
      "cell_type": "code",
      "metadata": {
        "id": "yRJcFfO7wHGH",
        "colab_type": "code",
        "outputId": "e88942b9-433a-4a08-a152-469a81f04a04",
        "colab": {
          "base_uri": "https://localhost:8080/",
          "height": 34
        }
      },
      "source": [
        "digits.data.shape, digits.images.shape ,np.unique(digits.data==digits.images.reshape(1797,64))"
      ],
      "execution_count": 0,
      "outputs": [
        {
          "output_type": "execute_result",
          "data": {
            "text/plain": [
              "((1797, 64), (1797, 8, 8), array([ True]))"
            ]
          },
          "metadata": {
            "tags": []
          },
          "execution_count": 43
        }
      ]
    },
    {
      "cell_type": "code",
      "metadata": {
        "id": "AYqDpGuyxcIl",
        "colab_type": "code",
        "colab": {}
      },
      "source": [
        "# To apply an classifier on this data, we need to flatten the image, to\n",
        "# turn the data in a (samples, feature) matrix:\n",
        "n_samples = len(digits.images)#1797\n",
        "X = digits.images.reshape((n_samples, -1))\n",
        "y = digits.target\n",
        "#print(X.shape)#(1797,64)\n",
        "\n",
        "# Split the dataset in two equal parts\n",
        "from sklearn.model_selection import train_test_split\n",
        "X_train, X_test, y_train, y_test = train_test_split(\n",
        "    X, y, test_size=0.5, random_state=0)"
      ],
      "execution_count": 0,
      "outputs": []
    },
    {
      "cell_type": "markdown",
      "metadata": {
        "id": "IRGWbW-3xsOF",
        "colab_type": "text"
      },
      "source": [
        "### SVM with default Hyperparameter\n",
        "By default:\n",
        "C=1.0\n",
        "\n",
        "gamma='auto'\n",
        "\n",
        "kernel='rbf'\n"
      ]
    },
    {
      "cell_type": "code",
      "metadata": {
        "id": "e7dWuds5pyxN",
        "colab_type": "code",
        "colab": {}
      },
      "source": [
        "from sklearn.svm import SVC\n",
        "from sklearn import metrics"
      ],
      "execution_count": 0,
      "outputs": []
    },
    {
      "cell_type": "code",
      "metadata": {
        "id": "z-LZqNHcxzp2",
        "colab_type": "code",
        "outputId": "b9dbecda-bff4-438a-b9d7-cd34043d25ea",
        "colab": {
          "base_uri": "https://localhost:8080/",
          "height": 106
        }
      },
      "source": [
        "svc=SVC() #Default hyperparameters\n",
        "svc.fit(X_train,y_train)\n",
        "y_pred=svc.predict(X_test)\n",
        "print('Accuracy Score:')\n",
        "print(metrics.accuracy_score(y_test,y_pred))"
      ],
      "execution_count": 0,
      "outputs": [
        {
          "output_type": "stream",
          "text": [
            "/usr/local/lib/python3.6/dist-packages/sklearn/svm/base.py:193: FutureWarning: The default value of gamma will change from 'auto' to 'scale' in version 0.22 to account better for unscaled features. Set gamma explicitly to 'auto' or 'scale' to avoid this warning.\n",
            "  \"avoid this warning.\", FutureWarning)\n"
          ],
          "name": "stderr"
        },
        {
          "output_type": "stream",
          "text": [
            "Accuracy Score:\n",
            "0.2335928809788654\n"
          ],
          "name": "stdout"
        }
      ]
    },
    {
      "cell_type": "markdown",
      "metadata": {
        "id": "QudThyA3x2sB",
        "colab_type": "text"
      },
      "source": [
        "### SVM with Linear Kernel"
      ]
    },
    {
      "cell_type": "code",
      "metadata": {
        "id": "9tUdSkKAx7eX",
        "colab_type": "code",
        "outputId": "fbd675ae-2cfb-41fa-b97a-8670bb6d2cb2",
        "colab": {
          "base_uri": "https://localhost:8080/",
          "height": 52
        }
      },
      "source": [
        "svc=SVC(kernel='linear')\n",
        "svc.fit(X_train,y_train)\n",
        "y_pred=svc.predict(X_test)\n",
        "print('Accuracy Score:')\n",
        "print(metrics.accuracy_score(y_test,y_pred))"
      ],
      "execution_count": 0,
      "outputs": [
        {
          "output_type": "stream",
          "text": [
            "Accuracy Score:\n",
            "0.967741935483871\n"
          ],
          "name": "stdout"
        }
      ]
    },
    {
      "cell_type": "markdown",
      "metadata": {
        "id": "noShZ8HPx-g0",
        "colab_type": "text"
      },
      "source": [
        "**Note**: If linear works, go with it."
      ]
    },
    {
      "cell_type": "markdown",
      "metadata": {
        "id": "BIygkLMYyCfH",
        "colab_type": "text"
      },
      "source": [
        "###SVM with RBF Kernel"
      ]
    },
    {
      "cell_type": "code",
      "metadata": {
        "id": "yDGx9roIyJ1O",
        "colab_type": "code",
        "outputId": "bb39761e-9a7e-4fec-d426-e099e0884076",
        "colab": {
          "base_uri": "https://localhost:8080/",
          "height": 52
        }
      },
      "source": [
        "svc=SVC(kernel='rbf', gamma='scale')\n",
        "svc.fit(X_train,y_train)\n",
        "y_pred=svc.predict(X_test)\n",
        "print('Accuracy Score:')\n",
        "print(metrics.accuracy_score(y_test,y_pred))"
      ],
      "execution_count": 0,
      "outputs": [
        {
          "output_type": "stream",
          "text": [
            "Accuracy Score:\n",
            "0.9877641824249166\n"
          ],
          "name": "stdout"
        }
      ]
    },
    {
      "cell_type": "markdown",
      "metadata": {
        "id": "G_5SjygeyNgt",
        "colab_type": "text"
      },
      "source": [
        "**Note**:\n",
        "\n",
        "If gamma is overestimated, the exponential will behave almost linearly and the higher-dimensional projection will start to lose its non-linear power. On the other hand, if it's underestimated, the function will lack regularization and the decision boundary will be highly sensitive to noise in training data.\n",
        "Default value of gamma is ‘auto’ which uses 1 / n_features, if gamma='scale' is passed then it uses 1 / (n_features * X.var()) as value of gamma."
      ]
    },
    {
      "cell_type": "markdown",
      "metadata": {
        "id": "xNRDZFgl2WXJ",
        "colab_type": "text"
      },
      "source": [
        "###SVM with Polynomial Kernel"
      ]
    },
    {
      "cell_type": "code",
      "metadata": {
        "id": "Q7gHs_KQyOwd",
        "colab_type": "code",
        "outputId": "f15da37c-791f-4d2d-ae8d-198e215617cb",
        "colab": {
          "base_uri": "https://localhost:8080/",
          "height": 106
        }
      },
      "source": [
        "svc=SVC(kernel='poly')\n",
        "svc.fit(X_train,y_train)\n",
        "y_pred=svc.predict(X_test)\n",
        "print('Accuracy Score:')\n",
        "print(metrics.accuracy_score(y_test,y_pred))"
      ],
      "execution_count": 0,
      "outputs": [
        {
          "output_type": "stream",
          "text": [
            "Accuracy Score:\n",
            "0.9833147942157954\n"
          ],
          "name": "stdout"
        },
        {
          "output_type": "stream",
          "text": [
            "/usr/local/lib/python3.6/dist-packages/sklearn/svm/base.py:193: FutureWarning: The default value of gamma will change from 'auto' to 'scale' in version 0.22 to account better for unscaled features. Set gamma explicitly to 'auto' or 'scale' to avoid this warning.\n",
            "  \"avoid this warning.\", FutureWarning)\n"
          ],
          "name": "stderr"
        }
      ]
    },
    {
      "cell_type": "markdown",
      "metadata": {
        "id": "BsFPWPPtKlG6",
        "colab_type": "text"
      },
      "source": [
        "**Note**: \n",
        "\n",
        "Polynomial kernels are well suited for problems where all the training data is normalized.\n",
        "\n",
        "Although the RBF kernel is more popular in SVM classification than the polynomial kernel, the latter is quite popular in natural language processing."
      ]
    },
    {
      "cell_type": "markdown",
      "metadata": {
        "id": "xwsryhodlaLt",
        "colab_type": "text"
      },
      "source": [
        "# **Model Evaluation & Comparison**"
      ]
    },
    {
      "cell_type": "markdown",
      "metadata": {
        "id": "HvHQHh9XmEJ-",
        "colab_type": "text"
      },
      "source": [
        "Now we compare with the scores of some other classifiers fit on this data."
      ]
    },
    {
      "cell_type": "code",
      "metadata": {
        "id": "wUOWshUomXlt",
        "colab_type": "code",
        "outputId": "6a4ac681-823e-4f47-df91-ccb25522ea64",
        "colab": {
          "base_uri": "https://localhost:8080/",
          "height": 280
        }
      },
      "source": [
        "#SVM\n",
        "clf=SVC(kernel='poly')\n",
        "clf.fit(X_train,y_train)\n",
        "\n",
        "y_pred=clf.predict(X_test)\n",
        "print('SVM Accuracy Score:')\n",
        "print(metrics.accuracy_score(y_test,y_pred))\n",
        "\n",
        "#Naive Bayes\n",
        "from sklearn.naive_bayes import BernoulliNB\n",
        "\n",
        "clf=BernoulliNB()\n",
        "clf.fit(X_train,y_train)\n",
        "\n",
        "y_pred=clf.predict(X_test)\n",
        "print('NB Accuracy Score:')\n",
        "print(metrics.accuracy_score(y_test,y_pred))\n",
        "\n",
        "#Logistic Regression\n",
        "from sklearn.linear_model import LogisticRegression\n",
        "\n",
        "clf = LogisticRegression().fit(X_train, y_train)\n",
        "\n",
        "y_pred=clf.predict(X_test)\n",
        "print('LR Accuracy Score:')\n",
        "print(metrics.accuracy_score(y_test,y_pred))\n",
        "\n",
        "#Decision Tree\n",
        "from sklearn import tree\n",
        "\n",
        "clf = tree.DecisionTreeClassifier().fit(X_train, y_train)\n",
        "\n",
        "y_pred=clf.predict(X_test)\n",
        "print('DT Accuracy Score:')\n",
        "print(metrics.accuracy_score(y_test,y_pred))"
      ],
      "execution_count": 0,
      "outputs": [
        {
          "output_type": "stream",
          "text": [
            "/usr/local/lib/python3.6/dist-packages/sklearn/svm/base.py:193: FutureWarning: The default value of gamma will change from 'auto' to 'scale' in version 0.22 to account better for unscaled features. Set gamma explicitly to 'auto' or 'scale' to avoid this warning.\n",
            "  \"avoid this warning.\", FutureWarning)\n",
            "/usr/local/lib/python3.6/dist-packages/sklearn/linear_model/logistic.py:432: FutureWarning: Default solver will be changed to 'lbfgs' in 0.22. Specify a solver to silence this warning.\n",
            "  FutureWarning)\n",
            "/usr/local/lib/python3.6/dist-packages/sklearn/linear_model/logistic.py:469: FutureWarning: Default multi_class will be changed to 'auto' in 0.22. Specify the multi_class option to silence this warning.\n",
            "  \"this warning.\", FutureWarning)\n"
          ],
          "name": "stderr"
        },
        {
          "output_type": "stream",
          "text": [
            "SVM Accuracy Score:\n",
            "0.9833147942157954\n",
            "NB Accuracy Score:\n",
            "0.8431590656284761\n",
            "LR Accuracy Score:\n",
            "0.9443826473859844\n",
            "DT Accuracy Score:\n",
            "0.8298109010011123\n"
          ],
          "name": "stdout"
        }
      ]
    },
    {
      "cell_type": "markdown",
      "metadata": {
        "id": "1ktTxwHeF2Hg",
        "colab_type": "text"
      },
      "source": [
        "###Hyper-parameter Tuning"
      ]
    },
    {
      "cell_type": "markdown",
      "metadata": {
        "id": "Pwp1Ydj_qnX3",
        "colab_type": "text"
      },
      "source": [
        "As you might have realized by now, your model's performance depends a lot on your Hyperparameter.\n",
        "\n",
        "To make our life a little easier, we have **GridSearchCV** and **RandomizedSearchCV**!\n"
      ]
    },
    {
      "cell_type": "markdown",
      "metadata": {
        "id": "fGlBsvo0wnN1",
        "colab_type": "text"
      },
      "source": [
        "####**GridSearch** \n",
        "Takes a dictionary of all of the different hyperparameters that you want to test, and then feeds all of the different combinations through the algorithm for you and then reports back to you which one had the highest accuracy."
      ]
    },
    {
      "cell_type": "code",
      "metadata": {
        "id": "A9BJnXKq10_B",
        "colab_type": "code",
        "outputId": "08bdd4b4-8026-4b9c-ecc5-ff5cd501291c",
        "colab": {
          "base_uri": "https://localhost:8080/",
          "height": 573
        }
      },
      "source": [
        "from sklearn.model_selection import GridSearchCV\n",
        "from sklearn.metrics import classification_report\n",
        "\n",
        "# Set the parameters by cross-validation\n",
        "tuned_parameters = {'kernel': ['rbf'], 'gamma': [1e-3, 1e-4],'C': [1, 10, 100, 1000],\n",
        "                     'kernel': ['linear'], 'C': [1, 10, 100, 1000]}\n",
        "\n",
        "score='accuracy'\n",
        "print(\"# Tuning hyper-parameters for \"+str(score))\n",
        "\n",
        "clf = GridSearchCV(SVC(), tuned_parameters, cv=5,scoring=score)\n",
        "\n",
        "clf.fit(X_train, y_train)\n",
        "\n",
        "print(\"Best parameters set found on development set:\")\n",
        "\n",
        "print(clf.best_params_)\n",
        "\n",
        "print(\"Grid scores on development set:\")\n",
        "\n",
        "means = clf.cv_results_['mean_test_score']\n",
        "stds = clf.cv_results_['std_test_score']\n",
        "for mean, std, params in zip(means, stds, clf.cv_results_['params']):\n",
        "    print(\"%0.3f (+/-%0.03f) for %r\"\n",
        "          % (mean, std * 2, params))\n",
        "\n",
        "print(\"Detailed classification report:\")\n",
        "\n",
        "print(\"The model is trained on the full development set.\")\n",
        "print(\"The scores are computed on the full evaluation set.\")\n",
        "\n",
        "y_true, y_pred = y_test, clf.predict(X_test)\n",
        "print(classification_report(y_true, y_pred))"
      ],
      "execution_count": 0,
      "outputs": [
        {
          "output_type": "stream",
          "text": [
            "# Tuning hyper-parameters for accuracy\n",
            "Best parameters set found on development set:\n",
            "{'C': 1, 'gamma': 0.001, 'kernel': 'linear'}\n",
            "Grid scores on development set:\n",
            "0.973 (+/-0.015) for {'C': 1, 'gamma': 0.001, 'kernel': 'linear'}\n",
            "0.973 (+/-0.015) for {'C': 1, 'gamma': 0.0001, 'kernel': 'linear'}\n",
            "0.973 (+/-0.015) for {'C': 10, 'gamma': 0.001, 'kernel': 'linear'}\n",
            "0.973 (+/-0.015) for {'C': 10, 'gamma': 0.0001, 'kernel': 'linear'}\n",
            "0.973 (+/-0.015) for {'C': 100, 'gamma': 0.001, 'kernel': 'linear'}\n",
            "0.973 (+/-0.015) for {'C': 100, 'gamma': 0.0001, 'kernel': 'linear'}\n",
            "0.973 (+/-0.015) for {'C': 1000, 'gamma': 0.001, 'kernel': 'linear'}\n",
            "0.973 (+/-0.015) for {'C': 1000, 'gamma': 0.0001, 'kernel': 'linear'}\n",
            "Detailed classification report:\n",
            "The model is trained on the full development set.\n",
            "The scores are computed on the full evaluation set.\n",
            "              precision    recall  f1-score   support\n",
            "\n",
            "           0       1.00      1.00      1.00        89\n",
            "           1       0.96      0.96      0.96        90\n",
            "           2       0.98      0.99      0.98        92\n",
            "           3       0.96      0.99      0.97        93\n",
            "           4       0.99      1.00      0.99        76\n",
            "           5       0.94      0.96      0.95       108\n",
            "           6       0.98      0.99      0.98        89\n",
            "           7       0.99      0.99      0.99        78\n",
            "           8       0.95      0.88      0.92        92\n",
            "           9       0.96      0.93      0.95        92\n",
            "\n",
            "    accuracy                           0.97       899\n",
            "   macro avg       0.97      0.97      0.97       899\n",
            "weighted avg       0.97      0.97      0.97       899\n",
            "\n"
          ],
          "name": "stdout"
        }
      ]
    },
    {
      "cell_type": "markdown",
      "metadata": {
        "id": "72Hxmm37wphg",
        "colab_type": "text"
      },
      "source": [
        "####**RandomSearch** \n",
        "Performed by evaluating n uniformly random points in the hyperparameter space, and selects the one producing the best performance. \n",
        "\n",
        "\n",
        "*Try RandomizedSearchCV as as exercise.*\n",
        "\n",
        "*Also, try using different scores as an exercise.*"
      ]
    },
    {
      "cell_type": "markdown",
      "metadata": {
        "id": "nWRSSP8MylFf",
        "colab_type": "text"
      },
      "source": [
        "# **SVM using Custom Kernels**"
      ]
    },
    {
      "cell_type": "code",
      "metadata": {
        "id": "tKLULRJby3RX",
        "colab_type": "code",
        "outputId": "dae38442-7b1e-47b9-dc8e-454b773a2a54",
        "colab": {
          "base_uri": "https://localhost:8080/",
          "height": 281
        }
      },
      "source": [
        "import numpy as np\n",
        "import matplotlib.pyplot as plt\n",
        "from sklearn import svm, datasets\n",
        "\n",
        "# import some data to play with\n",
        "iris = datasets.load_iris()\n",
        "X = iris.data[:, :2]  # we only take the first two features. We could\n",
        "                      # avoid this ugly slicing by using a two-dim dataset\n",
        "Y = iris.target\n",
        "\n",
        "\n",
        "def my_kernel(X, Y):\n",
        "    \"\"\"\n",
        "    We create a custom kernel:\n",
        "\n",
        "                 (2  0)\n",
        "    k(X, Y) = X  (    ) Y.T\n",
        "                 (0  1)\n",
        "    \"\"\"\n",
        "    M = np.array([[2, 0], [0, 1.0]])\n",
        "    return np.dot(np.dot(X, M), Y.T)\n",
        "\n",
        "\n",
        "h = .02  # step size in the mesh\n",
        "\n",
        "# we create an instance of SVM and fit out data.\n",
        "clf = svm.SVC(kernel=my_kernel)\n",
        "clf.fit(X, Y)\n",
        "\n",
        "# Plot the decision boundary. For that, we will assign a color to each\n",
        "# point in the mesh [x_min, x_max]x[y_min, y_max].\n",
        "x_min, x_max = X[:, 0].min() - 1, X[:, 0].max() + 1\n",
        "y_min, y_max = X[:, 1].min() - 1, X[:, 1].max() + 1\n",
        "xx, yy = np.meshgrid(np.arange(x_min, x_max, h), np.arange(y_min, y_max, h))\n",
        "Z = clf.predict(np.c_[xx.ravel(), yy.ravel()])\n",
        "\n",
        "# Put the result into a color plot\n",
        "Z = Z.reshape(xx.shape)\n",
        "plt.pcolormesh(xx, yy, Z, cmap=plt.cm.Paired)\n",
        "\n",
        "# Plot also the training points\n",
        "plt.scatter(X[:, 0], X[:, 1], c=Y)\n",
        "plt.title('3-Class classification using Support Vector Machine with custom'\n",
        "          ' kernel')\n",
        "\n",
        "plt.show()"
      ],
      "execution_count": 0,
      "outputs": [
        {
          "output_type": "display_data",
          "data": {
            "image/png": "[encoded data removed]",
            "text/plain": [
              "<Figure size 432x288 with 1 Axes>"
            ]
          },
          "metadata": {
            "tags": []
          }
        }
      ]
    },
    {
      "cell_type": "markdown",
      "metadata": {
        "id": "va_q1MrgflZA",
        "colab_type": "text"
      },
      "source": [
        "*Try using your own custom kernel as an exercise.*"
      ]
    },
    {
      "cell_type": "markdown",
      "metadata": {
        "id": "YTD-JLy019fH",
        "colab_type": "text"
      },
      "source": [
        "Reference https://scikit-learn.org/stable/modules/generated/sklearn.svm.SVC.html"
      ]
    }
  ]
}